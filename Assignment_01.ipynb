{
 "cells": [
  {
   "cell_type": "markdown",
   "id": "880e0bed",
   "metadata": {},
   "source": [
    "# Import necessary libraries"
   ]
  },
  {
   "cell_type": "code",
   "execution_count": 1,
   "id": "91faa2bc",
   "metadata": {},
   "outputs": [],
   "source": [
    "import pandas as pd \n",
    "import numpy as np\n",
    "import matplotlib.pyplot as plt\n",
    "import scipy.stats as stat"
   ]
  },
  {
   "cell_type": "markdown",
   "id": "d7319de5",
   "metadata": {},
   "source": [
    "# Read the data from CSV file into a pandas DataFrame"
   ]
  },
  {
   "cell_type": "code",
   "execution_count": 2,
   "id": "1405c847",
   "metadata": {},
   "outputs": [],
   "source": [
    "data = pd.read_csv('sally_ic_data.csv')"
   ]
  },
  {
   "cell_type": "markdown",
   "id": "83a07c70",
   "metadata": {},
   "source": [
    "# Display the first few rows of the DataFrame"
   ]
  },
  {
   "cell_type": "code",
   "execution_count": 3,
   "id": "6b0b459e",
   "metadata": {},
   "outputs": [
    {
     "data": {
      "text/html": [
       "<div>\n",
       "<style scoped>\n",
       "    .dataframe tbody tr th:only-of-type {\n",
       "        vertical-align: middle;\n",
       "    }\n",
       "\n",
       "    .dataframe tbody tr th {\n",
       "        vertical-align: top;\n",
       "    }\n",
       "\n",
       "    .dataframe thead th {\n",
       "        text-align: right;\n",
       "    }\n",
       "</style>\n",
       "<table border=\"1\" class=\"dataframe\">\n",
       "  <thead>\n",
       "    <tr style=\"text-align: right;\">\n",
       "      <th></th>\n",
       "      <th>StoreNo</th>\n",
       "      <th>StoreName</th>\n",
       "      <th>BusinessDate</th>\n",
       "      <th>DayPart</th>\n",
       "      <th>Hr</th>\n",
       "      <th>CheckNo</th>\n",
       "      <th>SeqNo</th>\n",
       "      <th>ItemNo</th>\n",
       "      <th>ItemName</th>\n",
       "      <th>ItemCategory</th>\n",
       "      <th>ItemSubCategory</th>\n",
       "      <th>Price</th>\n",
       "      <th>Cost</th>\n",
       "      <th>Discount</th>\n",
       "      <th>QtySold</th>\n",
       "    </tr>\n",
       "  </thead>\n",
       "  <tbody>\n",
       "    <tr>\n",
       "      <th>0</th>\n",
       "      <td>10050</td>\n",
       "      <td>Clio, MI</td>\n",
       "      <td>2021-01-01</td>\n",
       "      <td>Lunch</td>\n",
       "      <td>12:00PM - 12:59PM</td>\n",
       "      <td>1</td>\n",
       "      <td>1</td>\n",
       "      <td>4301</td>\n",
       "      <td>Lrg Ice Cream 21 oz</td>\n",
       "      <td>Desserts</td>\n",
       "      <td>Ice Cream</td>\n",
       "      <td>3.89</td>\n",
       "      <td>1.2793</td>\n",
       "      <td>0.0</td>\n",
       "      <td>1</td>\n",
       "    </tr>\n",
       "    <tr>\n",
       "      <th>1</th>\n",
       "      <td>10050</td>\n",
       "      <td>Clio, MI</td>\n",
       "      <td>2021-01-01</td>\n",
       "      <td>Lunch</td>\n",
       "      <td>12:00PM - 12:59PM</td>\n",
       "      <td>1</td>\n",
       "      <td>2</td>\n",
       "      <td>4301</td>\n",
       "      <td>Lrg Ice Cream 21 oz</td>\n",
       "      <td>Desserts</td>\n",
       "      <td>Ice Cream</td>\n",
       "      <td>3.89</td>\n",
       "      <td>1.2793</td>\n",
       "      <td>0.0</td>\n",
       "      <td>1</td>\n",
       "    </tr>\n",
       "    <tr>\n",
       "      <th>2</th>\n",
       "      <td>10050</td>\n",
       "      <td>Clio, MI</td>\n",
       "      <td>2021-01-01</td>\n",
       "      <td>Lunch</td>\n",
       "      <td>1:00PM - 1:59PM</td>\n",
       "      <td>2</td>\n",
       "      <td>1</td>\n",
       "      <td>11391</td>\n",
       "      <td>Btl Domestic Beer</td>\n",
       "      <td>Alcohol</td>\n",
       "      <td>Beer Bottle</td>\n",
       "      <td>4.99</td>\n",
       "      <td>2.3839</td>\n",
       "      <td>0.0</td>\n",
       "      <td>2</td>\n",
       "    </tr>\n",
       "    <tr>\n",
       "      <th>3</th>\n",
       "      <td>10050</td>\n",
       "      <td>Clio, MI</td>\n",
       "      <td>2021-01-01</td>\n",
       "      <td>Lunch</td>\n",
       "      <td>1:00PM - 1:59PM</td>\n",
       "      <td>2</td>\n",
       "      <td>2</td>\n",
       "      <td>11391</td>\n",
       "      <td>Btl Domestic Beer</td>\n",
       "      <td>Alcohol</td>\n",
       "      <td>Beer Bottle</td>\n",
       "      <td>4.99</td>\n",
       "      <td>2.3839</td>\n",
       "      <td>0.0</td>\n",
       "      <td>2</td>\n",
       "    </tr>\n",
       "    <tr>\n",
       "      <th>4</th>\n",
       "      <td>10050</td>\n",
       "      <td>Clio, MI</td>\n",
       "      <td>2021-01-01</td>\n",
       "      <td>Lunch</td>\n",
       "      <td>1:00PM - 1:59PM</td>\n",
       "      <td>2</td>\n",
       "      <td>3</td>\n",
       "      <td>4791</td>\n",
       "      <td>Med Ice Cream 16 oz</td>\n",
       "      <td>Desserts</td>\n",
       "      <td>Ice Cream</td>\n",
       "      <td>3.39</td>\n",
       "      <td>0.9335</td>\n",
       "      <td>0.0</td>\n",
       "      <td>1</td>\n",
       "    </tr>\n",
       "  </tbody>\n",
       "</table>\n",
       "</div>"
      ],
      "text/plain": [
       "   StoreNo StoreName BusinessDate DayPart                 Hr  CheckNo  SeqNo  \\\n",
       "0    10050  Clio, MI   2021-01-01   Lunch  12:00PM - 12:59PM        1      1   \n",
       "1    10050  Clio, MI   2021-01-01   Lunch  12:00PM - 12:59PM        1      2   \n",
       "2    10050  Clio, MI   2021-01-01   Lunch    1:00PM - 1:59PM        2      1   \n",
       "3    10050  Clio, MI   2021-01-01   Lunch    1:00PM - 1:59PM        2      2   \n",
       "4    10050  Clio, MI   2021-01-01   Lunch    1:00PM - 1:59PM        2      3   \n",
       "\n",
       "   ItemNo             ItemName ItemCategory ItemSubCategory  Price    Cost  \\\n",
       "0    4301  Lrg Ice Cream 21 oz     Desserts       Ice Cream   3.89  1.2793   \n",
       "1    4301  Lrg Ice Cream 21 oz     Desserts       Ice Cream   3.89  1.2793   \n",
       "2   11391    Btl Domestic Beer      Alcohol     Beer Bottle   4.99  2.3839   \n",
       "3   11391    Btl Domestic Beer      Alcohol     Beer Bottle   4.99  2.3839   \n",
       "4    4791  Med Ice Cream 16 oz     Desserts       Ice Cream   3.39  0.9335   \n",
       "\n",
       "   Discount  QtySold  \n",
       "0       0.0        1  \n",
       "1       0.0        1  \n",
       "2       0.0        2  \n",
       "3       0.0        2  \n",
       "4       0.0        1  "
      ]
     },
     "execution_count": 3,
     "metadata": {},
     "output_type": "execute_result"
    }
   ],
   "source": [
    "data.head()"
   ]
  },
  {
   "cell_type": "markdown",
   "id": "9d3cff33",
   "metadata": {},
   "source": [
    "# Calculate and print the number of unique items in the dataset"
   ]
  },
  {
   "cell_type": "code",
   "execution_count": 4,
   "id": "013e504f",
   "metadata": {},
   "outputs": [
    {
     "name": "stdout",
     "output_type": "stream",
     "text": [
      "The number of unique items in Sally's IC data is 184.\n"
     ]
    }
   ],
   "source": [
    "unique_items = len(data['ItemName'].unique())\n",
    "print(f\"The number of unique items in Sally's IC data is {unique_items}.\")"
   ]
  },
  {
   "cell_type": "markdown",
   "id": "143658c7",
   "metadata": {},
   "source": [
    "# Calculate and print the number of unique locations/stores in the dataset"
   ]
  },
  {
   "cell_type": "code",
   "execution_count": 5,
   "id": "f5bf0d1f",
   "metadata": {},
   "outputs": [
    {
     "name": "stdout",
     "output_type": "stream",
     "text": [
      "The number of unique Location's in Sally's IC data is 18.\n"
     ]
    }
   ],
   "source": [
    "unique_locations = len(data['StoreName'].unique())\n",
    "print(f\"The number of unique Location's in Sally's IC data is {unique_locations}.\")"
   ]
  },
  {
   "cell_type": "markdown",
   "id": "b4af03c9",
   "metadata": {},
   "source": [
    "# Find and print the minimum and maximum dates in the dataset"
   ]
  },
  {
   "cell_type": "code",
   "execution_count": 6,
   "id": "131c1168",
   "metadata": {},
   "outputs": [
    {
     "name": "stdout",
     "output_type": "stream",
     "text": [
      "The min and max date of Sally's IC data are 2021-01-01 and 2022-12-31.\n"
     ]
    }
   ],
   "source": [
    "min_date = data['BusinessDate'].min()\n",
    "max_date = data['BusinessDate'].max()\n",
    "print(f\"The min and max date of Sally's IC data are {min_date} and {max_date}.\")"
   ]
  },
  {
   "cell_type": "markdown",
   "id": "b0de8ea7",
   "metadata": {},
   "source": [
    "# Calculate and print the total number of records in the dataset"
   ]
  },
  {
   "cell_type": "code",
   "execution_count": 7,
   "id": "9bd61c87",
   "metadata": {},
   "outputs": [
    {
     "name": "stdout",
     "output_type": "stream",
     "text": [
      "The number of records in Sally's IC data is 8454545.\n"
     ]
    }
   ],
   "source": [
    "num_records = data.shape[0]\n",
    "print(f\"The number of records in Sally's IC data is {num_records}.\")"
   ]
  },
  {
   "cell_type": "markdown",
   "id": "c04e5a01",
   "metadata": {},
   "source": [
    "# Calculate and print the number of unique checks in the dataset"
   ]
  },
  {
   "cell_type": "code",
   "execution_count": 8,
   "id": "86277e6c",
   "metadata": {},
   "outputs": [
    {
     "name": "stdout",
     "output_type": "stream",
     "text": [
      "The number of unique Checks in Sally's IC data is 1428.\n"
     ]
    }
   ],
   "source": [
    "unique_checks = len(data['CheckNo'].unique())\n",
    "print(f\"The number of unique Checks in Sally's IC data is {unique_checks}.\")"
   ]
  },
  {
   "cell_type": "markdown",
   "id": "019a6dcc",
   "metadata": {},
   "source": [
    "# Calculate and print the top 10 performing items in terms of sales"
   ]
  },
  {
   "cell_type": "code",
   "execution_count": 9,
   "id": "3f170252",
   "metadata": {},
   "outputs": [
    {
     "name": "stdout",
     "output_type": "stream",
     "text": [
      "The Top 10 Performing Items (overall) in terms of Sales in Sally's IC data are: ItemName\n",
      "Sml Ice Cream 12 oz           2504673.900\n",
      "Med Ice Cream 16 oz           2419687.575\n",
      "Open Food                     1978540.760\n",
      "Chicken Tenders 4pc Deal       918353.020\n",
      "Lrg Ice Cream 21 oz            857217.880\n",
      "Chicken Tenders 3pc Combo      823840.060\n",
      "1/4# Cheese Burger Basket      800090.850\n",
      "Kids Ice Cream 8 oz            794601.630\n",
      "Chicken Tenders 4pc Basket     650375.900\n",
      "Value Dbl Cheese               586799.150\n",
      "Name: Price, dtype: float64\n"
     ]
    }
   ],
   "source": [
    "sales = data.groupby('ItemName')['Price'].sum()\n",
    "Sales_sort = sales.sort_values(ascending=False)\n",
    "Top_10 = Sales_sort.head(10)\n",
    "print(f\"The Top 10 Performing Items (overall) in terms of Sales in Sally's IC data are: {Top_10}\")"
   ]
  },
  {
   "cell_type": "markdown",
   "id": "f14de03c",
   "metadata": {},
   "source": [
    "# Calculate and print the bottom 10 performing items in terms of sales"
   ]
  },
  {
   "cell_type": "code",
   "execution_count": 10,
   "id": "7393e560",
   "metadata": {},
   "outputs": [
    {
     "name": "stdout",
     "output_type": "stream",
     "text": [
      "The Top 10 Performing Items (overall) in terms of Sales in Sally's IC data are: ItemName\n",
      "Sml Iced Tea 16 oz         27.63\n",
      "Med Iced Tea 21 oz         86.03\n",
      "Lrg Iced Tea 32 oz        139.47\n",
      "Kids Soft Drink 12 oz     263.09\n",
      "Lrg Prem Shake            547.59\n",
      "Bucket 'o Ice Cream      1202.21\n",
      "Slice Supreme Pizza      1725.00\n",
      "Fish Sandwich Deal       2902.09\n",
      "Slice Sausage Pizza      3067.18\n",
      "Special Brownie          3071.18\n",
      "Name: Price, dtype: float64\n"
     ]
    }
   ],
   "source": [
    "sales_1 = data.groupby('ItemName')['Price'].sum()\n",
    "Sales_sort_bottom = sales_1.sort_values(ascending=True)\n",
    "Bottom_10 = Sales_sort_bottom.head(10)\n",
    "print(f\"The Top 10 Performing Items (overall) in terms of Sales in Sally's IC data are: {Bottom_10}\")"
   ]
  },
  {
   "cell_type": "markdown",
   "id": "1bfeb9e4",
   "metadata": {},
   "source": [
    "# Calculate the average price for each item by grouping the data by item name and computing the mean price"
   ]
  },
  {
   "cell_type": "code",
   "execution_count": 11,
   "id": "4044d7e6",
   "metadata": {},
   "outputs": [],
   "source": [
    "avg_price = data.groupby('ItemName')['Price'].mean()"
   ]
  },
  {
   "cell_type": "markdown",
   "id": "7215c898",
   "metadata": {},
   "source": [
    "# Calculate a simple calculation of profit by subtracting cost and discount from the price,\n",
    "# and assign the result to a new column 'simple_cal' in the DataFrame"
   ]
  },
  {
   "cell_type": "code",
   "execution_count": 12,
   "id": "75a07d19",
   "metadata": {},
   "outputs": [
    {
     "data": {
      "text/html": [
       "<div>\n",
       "<style scoped>\n",
       "    .dataframe tbody tr th:only-of-type {\n",
       "        vertical-align: middle;\n",
       "    }\n",
       "\n",
       "    .dataframe tbody tr th {\n",
       "        vertical-align: top;\n",
       "    }\n",
       "\n",
       "    .dataframe thead th {\n",
       "        text-align: right;\n",
       "    }\n",
       "</style>\n",
       "<table border=\"1\" class=\"dataframe\">\n",
       "  <thead>\n",
       "    <tr style=\"text-align: right;\">\n",
       "      <th></th>\n",
       "      <th>StoreNo</th>\n",
       "      <th>StoreName</th>\n",
       "      <th>BusinessDate</th>\n",
       "      <th>DayPart</th>\n",
       "      <th>Hr</th>\n",
       "      <th>CheckNo</th>\n",
       "      <th>SeqNo</th>\n",
       "      <th>ItemNo</th>\n",
       "      <th>ItemName</th>\n",
       "      <th>ItemCategory</th>\n",
       "      <th>ItemSubCategory</th>\n",
       "      <th>Price</th>\n",
       "      <th>Cost</th>\n",
       "      <th>Discount</th>\n",
       "      <th>QtySold</th>\n",
       "      <th>simple_cal</th>\n",
       "    </tr>\n",
       "  </thead>\n",
       "  <tbody>\n",
       "    <tr>\n",
       "      <th>0</th>\n",
       "      <td>10050</td>\n",
       "      <td>Clio, MI</td>\n",
       "      <td>2021-01-01</td>\n",
       "      <td>Lunch</td>\n",
       "      <td>12:00PM - 12:59PM</td>\n",
       "      <td>1</td>\n",
       "      <td>1</td>\n",
       "      <td>4301</td>\n",
       "      <td>Lrg Ice Cream 21 oz</td>\n",
       "      <td>Desserts</td>\n",
       "      <td>Ice Cream</td>\n",
       "      <td>3.89</td>\n",
       "      <td>1.2793</td>\n",
       "      <td>0.0</td>\n",
       "      <td>1</td>\n",
       "      <td>2.6107</td>\n",
       "    </tr>\n",
       "    <tr>\n",
       "      <th>1</th>\n",
       "      <td>10050</td>\n",
       "      <td>Clio, MI</td>\n",
       "      <td>2021-01-01</td>\n",
       "      <td>Lunch</td>\n",
       "      <td>12:00PM - 12:59PM</td>\n",
       "      <td>1</td>\n",
       "      <td>2</td>\n",
       "      <td>4301</td>\n",
       "      <td>Lrg Ice Cream 21 oz</td>\n",
       "      <td>Desserts</td>\n",
       "      <td>Ice Cream</td>\n",
       "      <td>3.89</td>\n",
       "      <td>1.2793</td>\n",
       "      <td>0.0</td>\n",
       "      <td>1</td>\n",
       "      <td>2.6107</td>\n",
       "    </tr>\n",
       "    <tr>\n",
       "      <th>2</th>\n",
       "      <td>10050</td>\n",
       "      <td>Clio, MI</td>\n",
       "      <td>2021-01-01</td>\n",
       "      <td>Lunch</td>\n",
       "      <td>1:00PM - 1:59PM</td>\n",
       "      <td>2</td>\n",
       "      <td>1</td>\n",
       "      <td>11391</td>\n",
       "      <td>Btl Domestic Beer</td>\n",
       "      <td>Alcohol</td>\n",
       "      <td>Beer Bottle</td>\n",
       "      <td>4.99</td>\n",
       "      <td>2.3839</td>\n",
       "      <td>0.0</td>\n",
       "      <td>2</td>\n",
       "      <td>2.6061</td>\n",
       "    </tr>\n",
       "    <tr>\n",
       "      <th>3</th>\n",
       "      <td>10050</td>\n",
       "      <td>Clio, MI</td>\n",
       "      <td>2021-01-01</td>\n",
       "      <td>Lunch</td>\n",
       "      <td>1:00PM - 1:59PM</td>\n",
       "      <td>2</td>\n",
       "      <td>2</td>\n",
       "      <td>11391</td>\n",
       "      <td>Btl Domestic Beer</td>\n",
       "      <td>Alcohol</td>\n",
       "      <td>Beer Bottle</td>\n",
       "      <td>4.99</td>\n",
       "      <td>2.3839</td>\n",
       "      <td>0.0</td>\n",
       "      <td>2</td>\n",
       "      <td>2.6061</td>\n",
       "    </tr>\n",
       "    <tr>\n",
       "      <th>4</th>\n",
       "      <td>10050</td>\n",
       "      <td>Clio, MI</td>\n",
       "      <td>2021-01-01</td>\n",
       "      <td>Lunch</td>\n",
       "      <td>1:00PM - 1:59PM</td>\n",
       "      <td>2</td>\n",
       "      <td>3</td>\n",
       "      <td>4791</td>\n",
       "      <td>Med Ice Cream 16 oz</td>\n",
       "      <td>Desserts</td>\n",
       "      <td>Ice Cream</td>\n",
       "      <td>3.39</td>\n",
       "      <td>0.9335</td>\n",
       "      <td>0.0</td>\n",
       "      <td>1</td>\n",
       "      <td>2.4565</td>\n",
       "    </tr>\n",
       "  </tbody>\n",
       "</table>\n",
       "</div>"
      ],
      "text/plain": [
       "   StoreNo StoreName BusinessDate DayPart                 Hr  CheckNo  SeqNo  \\\n",
       "0    10050  Clio, MI   2021-01-01   Lunch  12:00PM - 12:59PM        1      1   \n",
       "1    10050  Clio, MI   2021-01-01   Lunch  12:00PM - 12:59PM        1      2   \n",
       "2    10050  Clio, MI   2021-01-01   Lunch    1:00PM - 1:59PM        2      1   \n",
       "3    10050  Clio, MI   2021-01-01   Lunch    1:00PM - 1:59PM        2      2   \n",
       "4    10050  Clio, MI   2021-01-01   Lunch    1:00PM - 1:59PM        2      3   \n",
       "\n",
       "   ItemNo             ItemName ItemCategory ItemSubCategory  Price    Cost  \\\n",
       "0    4301  Lrg Ice Cream 21 oz     Desserts       Ice Cream   3.89  1.2793   \n",
       "1    4301  Lrg Ice Cream 21 oz     Desserts       Ice Cream   3.89  1.2793   \n",
       "2   11391    Btl Domestic Beer      Alcohol     Beer Bottle   4.99  2.3839   \n",
       "3   11391    Btl Domestic Beer      Alcohol     Beer Bottle   4.99  2.3839   \n",
       "4    4791  Med Ice Cream 16 oz     Desserts       Ice Cream   3.39  0.9335   \n",
       "\n",
       "   Discount  QtySold  simple_cal  \n",
       "0       0.0        1      2.6107  \n",
       "1       0.0        1      2.6107  \n",
       "2       0.0        2      2.6061  \n",
       "3       0.0        2      2.6061  \n",
       "4       0.0        1      2.4565  "
      ]
     },
     "execution_count": 12,
     "metadata": {},
     "output_type": "execute_result"
    }
   ],
   "source": [
    "data['simple_cal'] = data['Price'] - data['Cost'] - data['Discount']\n",
    "data.head()"
   ]
  },
  {
   "cell_type": "markdown",
   "id": "e9c3ef44",
   "metadata": {},
   "source": [
    "# Calculate the total profit for each item by multiplying the quantity sold with the calculated simple profit,\n",
    "# and assign the result to a new column 'TotalProfit' in the DataFrame\n",
    "# Group the data by item name and sum the total profit for each item"
   ]
  },
  {
   "cell_type": "code",
   "execution_count": 13,
   "id": "1608710f",
   "metadata": {},
   "outputs": [
    {
     "data": {
      "text/html": [
       "<div>\n",
       "<style scoped>\n",
       "    .dataframe tbody tr th:only-of-type {\n",
       "        vertical-align: middle;\n",
       "    }\n",
       "\n",
       "    .dataframe tbody tr th {\n",
       "        vertical-align: top;\n",
       "    }\n",
       "\n",
       "    .dataframe thead th {\n",
       "        text-align: right;\n",
       "    }\n",
       "</style>\n",
       "<table border=\"1\" class=\"dataframe\">\n",
       "  <thead>\n",
       "    <tr style=\"text-align: right;\">\n",
       "      <th></th>\n",
       "      <th>StoreNo</th>\n",
       "      <th>StoreName</th>\n",
       "      <th>BusinessDate</th>\n",
       "      <th>DayPart</th>\n",
       "      <th>Hr</th>\n",
       "      <th>CheckNo</th>\n",
       "      <th>SeqNo</th>\n",
       "      <th>ItemNo</th>\n",
       "      <th>ItemName</th>\n",
       "      <th>ItemCategory</th>\n",
       "      <th>ItemSubCategory</th>\n",
       "      <th>Price</th>\n",
       "      <th>Cost</th>\n",
       "      <th>Discount</th>\n",
       "      <th>QtySold</th>\n",
       "      <th>simple_cal</th>\n",
       "      <th>TotalProfit</th>\n",
       "    </tr>\n",
       "  </thead>\n",
       "  <tbody>\n",
       "    <tr>\n",
       "      <th>0</th>\n",
       "      <td>10050</td>\n",
       "      <td>Clio, MI</td>\n",
       "      <td>2021-01-01</td>\n",
       "      <td>Lunch</td>\n",
       "      <td>12:00PM - 12:59PM</td>\n",
       "      <td>1</td>\n",
       "      <td>1</td>\n",
       "      <td>4301</td>\n",
       "      <td>Lrg Ice Cream 21 oz</td>\n",
       "      <td>Desserts</td>\n",
       "      <td>Ice Cream</td>\n",
       "      <td>3.89</td>\n",
       "      <td>1.2793</td>\n",
       "      <td>0.0</td>\n",
       "      <td>1</td>\n",
       "      <td>2.6107</td>\n",
       "      <td>2.6107</td>\n",
       "    </tr>\n",
       "    <tr>\n",
       "      <th>1</th>\n",
       "      <td>10050</td>\n",
       "      <td>Clio, MI</td>\n",
       "      <td>2021-01-01</td>\n",
       "      <td>Lunch</td>\n",
       "      <td>12:00PM - 12:59PM</td>\n",
       "      <td>1</td>\n",
       "      <td>2</td>\n",
       "      <td>4301</td>\n",
       "      <td>Lrg Ice Cream 21 oz</td>\n",
       "      <td>Desserts</td>\n",
       "      <td>Ice Cream</td>\n",
       "      <td>3.89</td>\n",
       "      <td>1.2793</td>\n",
       "      <td>0.0</td>\n",
       "      <td>1</td>\n",
       "      <td>2.6107</td>\n",
       "      <td>2.6107</td>\n",
       "    </tr>\n",
       "    <tr>\n",
       "      <th>2</th>\n",
       "      <td>10050</td>\n",
       "      <td>Clio, MI</td>\n",
       "      <td>2021-01-01</td>\n",
       "      <td>Lunch</td>\n",
       "      <td>1:00PM - 1:59PM</td>\n",
       "      <td>2</td>\n",
       "      <td>1</td>\n",
       "      <td>11391</td>\n",
       "      <td>Btl Domestic Beer</td>\n",
       "      <td>Alcohol</td>\n",
       "      <td>Beer Bottle</td>\n",
       "      <td>4.99</td>\n",
       "      <td>2.3839</td>\n",
       "      <td>0.0</td>\n",
       "      <td>2</td>\n",
       "      <td>2.6061</td>\n",
       "      <td>5.2122</td>\n",
       "    </tr>\n",
       "    <tr>\n",
       "      <th>3</th>\n",
       "      <td>10050</td>\n",
       "      <td>Clio, MI</td>\n",
       "      <td>2021-01-01</td>\n",
       "      <td>Lunch</td>\n",
       "      <td>1:00PM - 1:59PM</td>\n",
       "      <td>2</td>\n",
       "      <td>2</td>\n",
       "      <td>11391</td>\n",
       "      <td>Btl Domestic Beer</td>\n",
       "      <td>Alcohol</td>\n",
       "      <td>Beer Bottle</td>\n",
       "      <td>4.99</td>\n",
       "      <td>2.3839</td>\n",
       "      <td>0.0</td>\n",
       "      <td>2</td>\n",
       "      <td>2.6061</td>\n",
       "      <td>5.2122</td>\n",
       "    </tr>\n",
       "    <tr>\n",
       "      <th>4</th>\n",
       "      <td>10050</td>\n",
       "      <td>Clio, MI</td>\n",
       "      <td>2021-01-01</td>\n",
       "      <td>Lunch</td>\n",
       "      <td>1:00PM - 1:59PM</td>\n",
       "      <td>2</td>\n",
       "      <td>3</td>\n",
       "      <td>4791</td>\n",
       "      <td>Med Ice Cream 16 oz</td>\n",
       "      <td>Desserts</td>\n",
       "      <td>Ice Cream</td>\n",
       "      <td>3.39</td>\n",
       "      <td>0.9335</td>\n",
       "      <td>0.0</td>\n",
       "      <td>1</td>\n",
       "      <td>2.4565</td>\n",
       "      <td>2.4565</td>\n",
       "    </tr>\n",
       "  </tbody>\n",
       "</table>\n",
       "</div>"
      ],
      "text/plain": [
       "   StoreNo StoreName BusinessDate DayPart                 Hr  CheckNo  SeqNo  \\\n",
       "0    10050  Clio, MI   2021-01-01   Lunch  12:00PM - 12:59PM        1      1   \n",
       "1    10050  Clio, MI   2021-01-01   Lunch  12:00PM - 12:59PM        1      2   \n",
       "2    10050  Clio, MI   2021-01-01   Lunch    1:00PM - 1:59PM        2      1   \n",
       "3    10050  Clio, MI   2021-01-01   Lunch    1:00PM - 1:59PM        2      2   \n",
       "4    10050  Clio, MI   2021-01-01   Lunch    1:00PM - 1:59PM        2      3   \n",
       "\n",
       "   ItemNo             ItemName ItemCategory ItemSubCategory  Price    Cost  \\\n",
       "0    4301  Lrg Ice Cream 21 oz     Desserts       Ice Cream   3.89  1.2793   \n",
       "1    4301  Lrg Ice Cream 21 oz     Desserts       Ice Cream   3.89  1.2793   \n",
       "2   11391    Btl Domestic Beer      Alcohol     Beer Bottle   4.99  2.3839   \n",
       "3   11391    Btl Domestic Beer      Alcohol     Beer Bottle   4.99  2.3839   \n",
       "4    4791  Med Ice Cream 16 oz     Desserts       Ice Cream   3.39  0.9335   \n",
       "\n",
       "   Discount  QtySold  simple_cal  TotalProfit  \n",
       "0       0.0        1      2.6107       2.6107  \n",
       "1       0.0        1      2.6107       2.6107  \n",
       "2       0.0        2      2.6061       5.2122  \n",
       "3       0.0        2      2.6061       5.2122  \n",
       "4       0.0        1      2.4565       2.4565  "
      ]
     },
     "execution_count": 13,
     "metadata": {},
     "output_type": "execute_result"
    }
   ],
   "source": [
    "data['TotalProfit'] = data['QtySold'] * data['simple_cal']\n",
    "total_profit = data.groupby('ItemName')['TotalProfit'].sum()\n",
    "data.head()"
   ]
  },
  {
   "cell_type": "markdown",
   "id": "7e069e88",
   "metadata": {},
   "source": [
    "# Calculate and print the highest priced item on average"
   ]
  },
  {
   "cell_type": "code",
   "execution_count": 14,
   "id": "419646a0",
   "metadata": {},
   "outputs": [
    {
     "name": "stdout",
     "output_type": "stream",
     "text": [
      "Highest Priced Item on Average: Btl Sparkling Wine (Average Price: $30.28)\n"
     ]
    }
   ],
   "source": [
    "Highest_Priced_Item = avg_price.idxmax()\n",
    "highest_price = avg_price.max()\n",
    "print(f\"Highest Priced Item on Average: {Highest_Priced_Item} (Average Price: ${highest_price:.2f})\")"
   ]
  },
  {
   "cell_type": "markdown",
   "id": "c3595e82",
   "metadata": {},
   "source": [
    "# Calculate and print the lowest priced item on average"
   ]
  },
  {
   "cell_type": "code",
   "execution_count": 15,
   "id": "33a30207",
   "metadata": {},
   "outputs": [
    {
     "name": "stdout",
     "output_type": "stream",
     "text": [
      "Lowest Priced Item on Average: Cup Water (Average Price: $0.31)\n"
     ]
    }
   ],
   "source": [
    "Lowest_Priced_Item = avg_price.idxmin()\n",
    "lowest_price = avg_price.min()\n",
    "print(f\"Lowest Priced Item on Average: {Lowest_Priced_Item} (Average Price: ${lowest_price:.2f})\")"
   ]
  },
  {
   "cell_type": "markdown",
   "id": "80c05282",
   "metadata": {},
   "source": [
    "# Find the item with the highest total profit by locating its index in the total_profit Series\n",
    "# Retrieve the maximum total profit value"
   ]
  },
  {
   "cell_type": "code",
   "execution_count": 16,
   "id": "52a86a55",
   "metadata": {
    "scrolled": true
   },
   "outputs": [
    {
     "name": "stdout",
     "output_type": "stream",
     "text": [
      "Most Profitable Item on Average: Sml Ice Cream 12 oz (Total Profit: $2428858.29)\n"
     ]
    }
   ],
   "source": [
    "most_profitable_item = total_profit.idxmax()\n",
    "most_profit = total_profit.max()\n",
    "print(f\"Most Profitable Item on Average: {most_profitable_item} (Total Profit: ${most_profit:.2f})\")"
   ]
  },
  {
   "cell_type": "markdown",
   "id": "80b72700",
   "metadata": {},
   "source": [
    "# Find the item with the lowest total profit by locating its index in the total_profit Series\n",
    "# Retrieve the minimum total profit value"
   ]
  },
  {
   "cell_type": "code",
   "execution_count": 17,
   "id": "964c9aec",
   "metadata": {},
   "outputs": [
    {
     "name": "stdout",
     "output_type": "stream",
     "text": [
      "Least Profitable Item on Average: Add Ice Cream 12 oz (Total Profit: $-182901.45)\n"
     ]
    }
   ],
   "source": [
    "least_profitable_item = total_profit.idxmin()\n",
    "least_profit = total_profit.min()\n",
    "print(f\"Least Profitable Item on Average: {least_profitable_item} (Total Profit: ${least_profit:.2f})\")"
   ]
  },
  {
   "cell_type": "markdown",
   "id": "e8afab4b",
   "metadata": {},
   "source": [
    "# Group the data by item category, summing up the sales for each category, and find the category with the highest total sales"
   ]
  },
  {
   "cell_type": "code",
   "execution_count": 18,
   "id": "533430f4",
   "metadata": {},
   "outputs": [
    {
     "name": "stdout",
     "output_type": "stream",
     "text": [
      "Most Popular Category (Overall) in Terms of Sales: Entrees\n"
     ]
    }
   ],
   "source": [
    "most_popular_category = data.groupby('ItemCategory')['Price'].sum().idxmax()\n",
    "print(f\"Most Popular Category (Overall) in Terms of Sales: {most_popular_category}\")"
   ]
  },
  {
   "cell_type": "markdown",
   "id": "1531c874",
   "metadata": {},
   "source": [
    "# Filter the data to include only the rows with the most popular category\n",
    "# Group the filtered data by item name and sum up the sales for each item within the most popular category\n",
    "# Find the item with the highest total sales within the most popular category"
   ]
  },
  {
   "cell_type": "code",
   "execution_count": 19,
   "id": "c811674e",
   "metadata": {},
   "outputs": [
    {
     "name": "stdout",
     "output_type": "stream",
     "text": [
      "Most Popular Sub-category within Entrees: Chicken Tenders 4pc Deal\n"
     ]
    }
   ],
   "source": [
    "top_category = data[data['ItemCategory'] == most_popular_category]\n",
    "most_popular_subcategory = top_category.groupby('ItemName')['Price'].sum().idxmax()\n",
    "print(f\"Most Popular Sub-category within {most_popular_category}: {most_popular_subcategory}\")"
   ]
  },
  {
   "cell_type": "markdown",
   "id": "6dd98a16",
   "metadata": {},
   "source": [
    "# Convert the 'BusinessDate' column to datetime format\n",
    "# Extract the year from the 'BusinessDate' column and assign it to a new column 'Year'"
   ]
  },
  {
   "cell_type": "code",
   "execution_count": 20,
   "id": "3ad58311",
   "metadata": {
    "scrolled": false
   },
   "outputs": [
    {
     "data": {
      "text/html": [
       "<div>\n",
       "<style scoped>\n",
       "    .dataframe tbody tr th:only-of-type {\n",
       "        vertical-align: middle;\n",
       "    }\n",
       "\n",
       "    .dataframe tbody tr th {\n",
       "        vertical-align: top;\n",
       "    }\n",
       "\n",
       "    .dataframe thead th {\n",
       "        text-align: right;\n",
       "    }\n",
       "</style>\n",
       "<table border=\"1\" class=\"dataframe\">\n",
       "  <thead>\n",
       "    <tr style=\"text-align: right;\">\n",
       "      <th></th>\n",
       "      <th>StoreNo</th>\n",
       "      <th>StoreName</th>\n",
       "      <th>BusinessDate</th>\n",
       "      <th>DayPart</th>\n",
       "      <th>Hr</th>\n",
       "      <th>CheckNo</th>\n",
       "      <th>SeqNo</th>\n",
       "      <th>ItemNo</th>\n",
       "      <th>ItemName</th>\n",
       "      <th>ItemCategory</th>\n",
       "      <th>ItemSubCategory</th>\n",
       "      <th>Price</th>\n",
       "      <th>Cost</th>\n",
       "      <th>Discount</th>\n",
       "      <th>QtySold</th>\n",
       "      <th>simple_cal</th>\n",
       "      <th>TotalProfit</th>\n",
       "      <th>Year</th>\n",
       "    </tr>\n",
       "  </thead>\n",
       "  <tbody>\n",
       "    <tr>\n",
       "      <th>0</th>\n",
       "      <td>10050</td>\n",
       "      <td>Clio, MI</td>\n",
       "      <td>2021-01-01</td>\n",
       "      <td>Lunch</td>\n",
       "      <td>12:00PM - 12:59PM</td>\n",
       "      <td>1</td>\n",
       "      <td>1</td>\n",
       "      <td>4301</td>\n",
       "      <td>Lrg Ice Cream 21 oz</td>\n",
       "      <td>Desserts</td>\n",
       "      <td>Ice Cream</td>\n",
       "      <td>3.89</td>\n",
       "      <td>1.2793</td>\n",
       "      <td>0.0</td>\n",
       "      <td>1</td>\n",
       "      <td>2.6107</td>\n",
       "      <td>2.6107</td>\n",
       "      <td>2021</td>\n",
       "    </tr>\n",
       "    <tr>\n",
       "      <th>1</th>\n",
       "      <td>10050</td>\n",
       "      <td>Clio, MI</td>\n",
       "      <td>2021-01-01</td>\n",
       "      <td>Lunch</td>\n",
       "      <td>12:00PM - 12:59PM</td>\n",
       "      <td>1</td>\n",
       "      <td>2</td>\n",
       "      <td>4301</td>\n",
       "      <td>Lrg Ice Cream 21 oz</td>\n",
       "      <td>Desserts</td>\n",
       "      <td>Ice Cream</td>\n",
       "      <td>3.89</td>\n",
       "      <td>1.2793</td>\n",
       "      <td>0.0</td>\n",
       "      <td>1</td>\n",
       "      <td>2.6107</td>\n",
       "      <td>2.6107</td>\n",
       "      <td>2021</td>\n",
       "    </tr>\n",
       "    <tr>\n",
       "      <th>2</th>\n",
       "      <td>10050</td>\n",
       "      <td>Clio, MI</td>\n",
       "      <td>2021-01-01</td>\n",
       "      <td>Lunch</td>\n",
       "      <td>1:00PM - 1:59PM</td>\n",
       "      <td>2</td>\n",
       "      <td>1</td>\n",
       "      <td>11391</td>\n",
       "      <td>Btl Domestic Beer</td>\n",
       "      <td>Alcohol</td>\n",
       "      <td>Beer Bottle</td>\n",
       "      <td>4.99</td>\n",
       "      <td>2.3839</td>\n",
       "      <td>0.0</td>\n",
       "      <td>2</td>\n",
       "      <td>2.6061</td>\n",
       "      <td>5.2122</td>\n",
       "      <td>2021</td>\n",
       "    </tr>\n",
       "    <tr>\n",
       "      <th>3</th>\n",
       "      <td>10050</td>\n",
       "      <td>Clio, MI</td>\n",
       "      <td>2021-01-01</td>\n",
       "      <td>Lunch</td>\n",
       "      <td>1:00PM - 1:59PM</td>\n",
       "      <td>2</td>\n",
       "      <td>2</td>\n",
       "      <td>11391</td>\n",
       "      <td>Btl Domestic Beer</td>\n",
       "      <td>Alcohol</td>\n",
       "      <td>Beer Bottle</td>\n",
       "      <td>4.99</td>\n",
       "      <td>2.3839</td>\n",
       "      <td>0.0</td>\n",
       "      <td>2</td>\n",
       "      <td>2.6061</td>\n",
       "      <td>5.2122</td>\n",
       "      <td>2021</td>\n",
       "    </tr>\n",
       "    <tr>\n",
       "      <th>4</th>\n",
       "      <td>10050</td>\n",
       "      <td>Clio, MI</td>\n",
       "      <td>2021-01-01</td>\n",
       "      <td>Lunch</td>\n",
       "      <td>1:00PM - 1:59PM</td>\n",
       "      <td>2</td>\n",
       "      <td>3</td>\n",
       "      <td>4791</td>\n",
       "      <td>Med Ice Cream 16 oz</td>\n",
       "      <td>Desserts</td>\n",
       "      <td>Ice Cream</td>\n",
       "      <td>3.39</td>\n",
       "      <td>0.9335</td>\n",
       "      <td>0.0</td>\n",
       "      <td>1</td>\n",
       "      <td>2.4565</td>\n",
       "      <td>2.4565</td>\n",
       "      <td>2021</td>\n",
       "    </tr>\n",
       "  </tbody>\n",
       "</table>\n",
       "</div>"
      ],
      "text/plain": [
       "   StoreNo StoreName BusinessDate DayPart                 Hr  CheckNo  SeqNo  \\\n",
       "0    10050  Clio, MI   2021-01-01   Lunch  12:00PM - 12:59PM        1      1   \n",
       "1    10050  Clio, MI   2021-01-01   Lunch  12:00PM - 12:59PM        1      2   \n",
       "2    10050  Clio, MI   2021-01-01   Lunch    1:00PM - 1:59PM        2      1   \n",
       "3    10050  Clio, MI   2021-01-01   Lunch    1:00PM - 1:59PM        2      2   \n",
       "4    10050  Clio, MI   2021-01-01   Lunch    1:00PM - 1:59PM        2      3   \n",
       "\n",
       "   ItemNo             ItemName ItemCategory ItemSubCategory  Price    Cost  \\\n",
       "0    4301  Lrg Ice Cream 21 oz     Desserts       Ice Cream   3.89  1.2793   \n",
       "1    4301  Lrg Ice Cream 21 oz     Desserts       Ice Cream   3.89  1.2793   \n",
       "2   11391    Btl Domestic Beer      Alcohol     Beer Bottle   4.99  2.3839   \n",
       "3   11391    Btl Domestic Beer      Alcohol     Beer Bottle   4.99  2.3839   \n",
       "4    4791  Med Ice Cream 16 oz     Desserts       Ice Cream   3.39  0.9335   \n",
       "\n",
       "   Discount  QtySold  simple_cal  TotalProfit  Year  \n",
       "0       0.0        1      2.6107       2.6107  2021  \n",
       "1       0.0        1      2.6107       2.6107  2021  \n",
       "2       0.0        2      2.6061       5.2122  2021  \n",
       "3       0.0        2      2.6061       5.2122  2021  \n",
       "4       0.0        1      2.4565       2.4565  2021  "
      ]
     },
     "execution_count": 20,
     "metadata": {},
     "output_type": "execute_result"
    }
   ],
   "source": [
    "data['BusinessDate'] = pd.to_datetime(data['BusinessDate'])\n",
    "data['Year'] = data['BusinessDate'].dt.year\n",
    "data.head()"
   ]
  },
  {
   "cell_type": "markdown",
   "id": "6a8f296f",
   "metadata": {},
   "source": [
    "# Calculate the sales amount for each transaction by multiplying the quantity sold with the price,\n",
    "# and assign the result to a new column 'Sales' in the DataFrame"
   ]
  },
  {
   "cell_type": "code",
   "execution_count": 21,
   "id": "d58dd93e",
   "metadata": {},
   "outputs": [
    {
     "data": {
      "text/html": [
       "<div>\n",
       "<style scoped>\n",
       "    .dataframe tbody tr th:only-of-type {\n",
       "        vertical-align: middle;\n",
       "    }\n",
       "\n",
       "    .dataframe tbody tr th {\n",
       "        vertical-align: top;\n",
       "    }\n",
       "\n",
       "    .dataframe thead th {\n",
       "        text-align: right;\n",
       "    }\n",
       "</style>\n",
       "<table border=\"1\" class=\"dataframe\">\n",
       "  <thead>\n",
       "    <tr style=\"text-align: right;\">\n",
       "      <th></th>\n",
       "      <th>StoreNo</th>\n",
       "      <th>StoreName</th>\n",
       "      <th>BusinessDate</th>\n",
       "      <th>DayPart</th>\n",
       "      <th>Hr</th>\n",
       "      <th>CheckNo</th>\n",
       "      <th>SeqNo</th>\n",
       "      <th>ItemNo</th>\n",
       "      <th>ItemName</th>\n",
       "      <th>ItemCategory</th>\n",
       "      <th>ItemSubCategory</th>\n",
       "      <th>Price</th>\n",
       "      <th>Cost</th>\n",
       "      <th>Discount</th>\n",
       "      <th>QtySold</th>\n",
       "      <th>simple_cal</th>\n",
       "      <th>TotalProfit</th>\n",
       "      <th>Year</th>\n",
       "      <th>Sales</th>\n",
       "    </tr>\n",
       "  </thead>\n",
       "  <tbody>\n",
       "    <tr>\n",
       "      <th>0</th>\n",
       "      <td>10050</td>\n",
       "      <td>Clio, MI</td>\n",
       "      <td>2021-01-01</td>\n",
       "      <td>Lunch</td>\n",
       "      <td>12:00PM - 12:59PM</td>\n",
       "      <td>1</td>\n",
       "      <td>1</td>\n",
       "      <td>4301</td>\n",
       "      <td>Lrg Ice Cream 21 oz</td>\n",
       "      <td>Desserts</td>\n",
       "      <td>Ice Cream</td>\n",
       "      <td>3.89</td>\n",
       "      <td>1.2793</td>\n",
       "      <td>0.0</td>\n",
       "      <td>1</td>\n",
       "      <td>2.6107</td>\n",
       "      <td>2.6107</td>\n",
       "      <td>2021</td>\n",
       "      <td>3.89</td>\n",
       "    </tr>\n",
       "    <tr>\n",
       "      <th>1</th>\n",
       "      <td>10050</td>\n",
       "      <td>Clio, MI</td>\n",
       "      <td>2021-01-01</td>\n",
       "      <td>Lunch</td>\n",
       "      <td>12:00PM - 12:59PM</td>\n",
       "      <td>1</td>\n",
       "      <td>2</td>\n",
       "      <td>4301</td>\n",
       "      <td>Lrg Ice Cream 21 oz</td>\n",
       "      <td>Desserts</td>\n",
       "      <td>Ice Cream</td>\n",
       "      <td>3.89</td>\n",
       "      <td>1.2793</td>\n",
       "      <td>0.0</td>\n",
       "      <td>1</td>\n",
       "      <td>2.6107</td>\n",
       "      <td>2.6107</td>\n",
       "      <td>2021</td>\n",
       "      <td>3.89</td>\n",
       "    </tr>\n",
       "    <tr>\n",
       "      <th>2</th>\n",
       "      <td>10050</td>\n",
       "      <td>Clio, MI</td>\n",
       "      <td>2021-01-01</td>\n",
       "      <td>Lunch</td>\n",
       "      <td>1:00PM - 1:59PM</td>\n",
       "      <td>2</td>\n",
       "      <td>1</td>\n",
       "      <td>11391</td>\n",
       "      <td>Btl Domestic Beer</td>\n",
       "      <td>Alcohol</td>\n",
       "      <td>Beer Bottle</td>\n",
       "      <td>4.99</td>\n",
       "      <td>2.3839</td>\n",
       "      <td>0.0</td>\n",
       "      <td>2</td>\n",
       "      <td>2.6061</td>\n",
       "      <td>5.2122</td>\n",
       "      <td>2021</td>\n",
       "      <td>9.98</td>\n",
       "    </tr>\n",
       "    <tr>\n",
       "      <th>3</th>\n",
       "      <td>10050</td>\n",
       "      <td>Clio, MI</td>\n",
       "      <td>2021-01-01</td>\n",
       "      <td>Lunch</td>\n",
       "      <td>1:00PM - 1:59PM</td>\n",
       "      <td>2</td>\n",
       "      <td>2</td>\n",
       "      <td>11391</td>\n",
       "      <td>Btl Domestic Beer</td>\n",
       "      <td>Alcohol</td>\n",
       "      <td>Beer Bottle</td>\n",
       "      <td>4.99</td>\n",
       "      <td>2.3839</td>\n",
       "      <td>0.0</td>\n",
       "      <td>2</td>\n",
       "      <td>2.6061</td>\n",
       "      <td>5.2122</td>\n",
       "      <td>2021</td>\n",
       "      <td>9.98</td>\n",
       "    </tr>\n",
       "    <tr>\n",
       "      <th>4</th>\n",
       "      <td>10050</td>\n",
       "      <td>Clio, MI</td>\n",
       "      <td>2021-01-01</td>\n",
       "      <td>Lunch</td>\n",
       "      <td>1:00PM - 1:59PM</td>\n",
       "      <td>2</td>\n",
       "      <td>3</td>\n",
       "      <td>4791</td>\n",
       "      <td>Med Ice Cream 16 oz</td>\n",
       "      <td>Desserts</td>\n",
       "      <td>Ice Cream</td>\n",
       "      <td>3.39</td>\n",
       "      <td>0.9335</td>\n",
       "      <td>0.0</td>\n",
       "      <td>1</td>\n",
       "      <td>2.4565</td>\n",
       "      <td>2.4565</td>\n",
       "      <td>2021</td>\n",
       "      <td>3.39</td>\n",
       "    </tr>\n",
       "  </tbody>\n",
       "</table>\n",
       "</div>"
      ],
      "text/plain": [
       "   StoreNo StoreName BusinessDate DayPart                 Hr  CheckNo  SeqNo  \\\n",
       "0    10050  Clio, MI   2021-01-01   Lunch  12:00PM - 12:59PM        1      1   \n",
       "1    10050  Clio, MI   2021-01-01   Lunch  12:00PM - 12:59PM        1      2   \n",
       "2    10050  Clio, MI   2021-01-01   Lunch    1:00PM - 1:59PM        2      1   \n",
       "3    10050  Clio, MI   2021-01-01   Lunch    1:00PM - 1:59PM        2      2   \n",
       "4    10050  Clio, MI   2021-01-01   Lunch    1:00PM - 1:59PM        2      3   \n",
       "\n",
       "   ItemNo             ItemName ItemCategory ItemSubCategory  Price    Cost  \\\n",
       "0    4301  Lrg Ice Cream 21 oz     Desserts       Ice Cream   3.89  1.2793   \n",
       "1    4301  Lrg Ice Cream 21 oz     Desserts       Ice Cream   3.89  1.2793   \n",
       "2   11391    Btl Domestic Beer      Alcohol     Beer Bottle   4.99  2.3839   \n",
       "3   11391    Btl Domestic Beer      Alcohol     Beer Bottle   4.99  2.3839   \n",
       "4    4791  Med Ice Cream 16 oz     Desserts       Ice Cream   3.39  0.9335   \n",
       "\n",
       "   Discount  QtySold  simple_cal  TotalProfit  Year  Sales  \n",
       "0       0.0        1      2.6107       2.6107  2021   3.89  \n",
       "1       0.0        1      2.6107       2.6107  2021   3.89  \n",
       "2       0.0        2      2.6061       5.2122  2021   9.98  \n",
       "3       0.0        2      2.6061       5.2122  2021   9.98  \n",
       "4       0.0        1      2.4565       2.4565  2021   3.39  "
      ]
     },
     "execution_count": 21,
     "metadata": {},
     "output_type": "execute_result"
    }
   ],
   "source": [
    "data['Sales'] = data['QtySold'] * data['Price']\n",
    "data.head()"
   ]
  },
  {
   "cell_type": "markdown",
   "id": "e838bc3e",
   "metadata": {},
   "source": [
    "# Group the data by item name and calculate the total sales for each item"
   ]
  },
  {
   "cell_type": "code",
   "execution_count": 22,
   "id": "c9b3d743",
   "metadata": {},
   "outputs": [
    {
     "data": {
      "text/plain": [
       "ItemName\n",
       "1 Burritos               12189.53\n",
       "1 Taco                   15207.00\n",
       "1/2# Burger              62244.01\n",
       "1/2# Burger Basket      451845.24\n",
       "1/2# Cheese Burger       52728.30\n",
       "                          ...    \n",
       "Value Bacon Cheese      301067.66\n",
       "Value Cheeseburger      296812.54\n",
       "Value Dbl Cheese        595008.35\n",
       "Value Hamburger          29171.29\n",
       "Value Supreme Burger    113277.95\n",
       "Name: Sales, Length: 184, dtype: float64"
      ]
     },
     "execution_count": 22,
     "metadata": {},
     "output_type": "execute_result"
    }
   ],
   "source": [
    "Total_Item_Sales = data.groupby('ItemName')['Sales'].sum()\n",
    "Total_Item_Sales"
   ]
  },
  {
   "cell_type": "markdown",
   "id": "29ec121b",
   "metadata": {},
   "source": [
    "# Convert the 'BusinessDate' column to datetime format\n",
    "# Extract the day component from the 'BusinessDate' column and assign it to a new column 'Day'"
   ]
  },
  {
   "cell_type": "code",
   "execution_count": 23,
   "id": "a51a8c53",
   "metadata": {},
   "outputs": [
    {
     "data": {
      "text/html": [
       "<div>\n",
       "<style scoped>\n",
       "    .dataframe tbody tr th:only-of-type {\n",
       "        vertical-align: middle;\n",
       "    }\n",
       "\n",
       "    .dataframe tbody tr th {\n",
       "        vertical-align: top;\n",
       "    }\n",
       "\n",
       "    .dataframe thead th {\n",
       "        text-align: right;\n",
       "    }\n",
       "</style>\n",
       "<table border=\"1\" class=\"dataframe\">\n",
       "  <thead>\n",
       "    <tr style=\"text-align: right;\">\n",
       "      <th></th>\n",
       "      <th>StoreNo</th>\n",
       "      <th>StoreName</th>\n",
       "      <th>BusinessDate</th>\n",
       "      <th>DayPart</th>\n",
       "      <th>Hr</th>\n",
       "      <th>CheckNo</th>\n",
       "      <th>SeqNo</th>\n",
       "      <th>ItemNo</th>\n",
       "      <th>ItemName</th>\n",
       "      <th>ItemCategory</th>\n",
       "      <th>ItemSubCategory</th>\n",
       "      <th>Price</th>\n",
       "      <th>Cost</th>\n",
       "      <th>Discount</th>\n",
       "      <th>QtySold</th>\n",
       "      <th>simple_cal</th>\n",
       "      <th>TotalProfit</th>\n",
       "      <th>Year</th>\n",
       "      <th>Sales</th>\n",
       "      <th>Day</th>\n",
       "    </tr>\n",
       "  </thead>\n",
       "  <tbody>\n",
       "    <tr>\n",
       "      <th>0</th>\n",
       "      <td>10050</td>\n",
       "      <td>Clio, MI</td>\n",
       "      <td>2021-01-01</td>\n",
       "      <td>Lunch</td>\n",
       "      <td>12:00PM - 12:59PM</td>\n",
       "      <td>1</td>\n",
       "      <td>1</td>\n",
       "      <td>4301</td>\n",
       "      <td>Lrg Ice Cream 21 oz</td>\n",
       "      <td>Desserts</td>\n",
       "      <td>Ice Cream</td>\n",
       "      <td>3.89</td>\n",
       "      <td>1.2793</td>\n",
       "      <td>0.0</td>\n",
       "      <td>1</td>\n",
       "      <td>2.6107</td>\n",
       "      <td>2.6107</td>\n",
       "      <td>2021</td>\n",
       "      <td>3.89</td>\n",
       "      <td>1</td>\n",
       "    </tr>\n",
       "    <tr>\n",
       "      <th>1</th>\n",
       "      <td>10050</td>\n",
       "      <td>Clio, MI</td>\n",
       "      <td>2021-01-01</td>\n",
       "      <td>Lunch</td>\n",
       "      <td>12:00PM - 12:59PM</td>\n",
       "      <td>1</td>\n",
       "      <td>2</td>\n",
       "      <td>4301</td>\n",
       "      <td>Lrg Ice Cream 21 oz</td>\n",
       "      <td>Desserts</td>\n",
       "      <td>Ice Cream</td>\n",
       "      <td>3.89</td>\n",
       "      <td>1.2793</td>\n",
       "      <td>0.0</td>\n",
       "      <td>1</td>\n",
       "      <td>2.6107</td>\n",
       "      <td>2.6107</td>\n",
       "      <td>2021</td>\n",
       "      <td>3.89</td>\n",
       "      <td>1</td>\n",
       "    </tr>\n",
       "    <tr>\n",
       "      <th>2</th>\n",
       "      <td>10050</td>\n",
       "      <td>Clio, MI</td>\n",
       "      <td>2021-01-01</td>\n",
       "      <td>Lunch</td>\n",
       "      <td>1:00PM - 1:59PM</td>\n",
       "      <td>2</td>\n",
       "      <td>1</td>\n",
       "      <td>11391</td>\n",
       "      <td>Btl Domestic Beer</td>\n",
       "      <td>Alcohol</td>\n",
       "      <td>Beer Bottle</td>\n",
       "      <td>4.99</td>\n",
       "      <td>2.3839</td>\n",
       "      <td>0.0</td>\n",
       "      <td>2</td>\n",
       "      <td>2.6061</td>\n",
       "      <td>5.2122</td>\n",
       "      <td>2021</td>\n",
       "      <td>9.98</td>\n",
       "      <td>1</td>\n",
       "    </tr>\n",
       "    <tr>\n",
       "      <th>3</th>\n",
       "      <td>10050</td>\n",
       "      <td>Clio, MI</td>\n",
       "      <td>2021-01-01</td>\n",
       "      <td>Lunch</td>\n",
       "      <td>1:00PM - 1:59PM</td>\n",
       "      <td>2</td>\n",
       "      <td>2</td>\n",
       "      <td>11391</td>\n",
       "      <td>Btl Domestic Beer</td>\n",
       "      <td>Alcohol</td>\n",
       "      <td>Beer Bottle</td>\n",
       "      <td>4.99</td>\n",
       "      <td>2.3839</td>\n",
       "      <td>0.0</td>\n",
       "      <td>2</td>\n",
       "      <td>2.6061</td>\n",
       "      <td>5.2122</td>\n",
       "      <td>2021</td>\n",
       "      <td>9.98</td>\n",
       "      <td>1</td>\n",
       "    </tr>\n",
       "    <tr>\n",
       "      <th>4</th>\n",
       "      <td>10050</td>\n",
       "      <td>Clio, MI</td>\n",
       "      <td>2021-01-01</td>\n",
       "      <td>Lunch</td>\n",
       "      <td>1:00PM - 1:59PM</td>\n",
       "      <td>2</td>\n",
       "      <td>3</td>\n",
       "      <td>4791</td>\n",
       "      <td>Med Ice Cream 16 oz</td>\n",
       "      <td>Desserts</td>\n",
       "      <td>Ice Cream</td>\n",
       "      <td>3.39</td>\n",
       "      <td>0.9335</td>\n",
       "      <td>0.0</td>\n",
       "      <td>1</td>\n",
       "      <td>2.4565</td>\n",
       "      <td>2.4565</td>\n",
       "      <td>2021</td>\n",
       "      <td>3.39</td>\n",
       "      <td>1</td>\n",
       "    </tr>\n",
       "  </tbody>\n",
       "</table>\n",
       "</div>"
      ],
      "text/plain": [
       "   StoreNo StoreName BusinessDate DayPart                 Hr  CheckNo  SeqNo  \\\n",
       "0    10050  Clio, MI   2021-01-01   Lunch  12:00PM - 12:59PM        1      1   \n",
       "1    10050  Clio, MI   2021-01-01   Lunch  12:00PM - 12:59PM        1      2   \n",
       "2    10050  Clio, MI   2021-01-01   Lunch    1:00PM - 1:59PM        2      1   \n",
       "3    10050  Clio, MI   2021-01-01   Lunch    1:00PM - 1:59PM        2      2   \n",
       "4    10050  Clio, MI   2021-01-01   Lunch    1:00PM - 1:59PM        2      3   \n",
       "\n",
       "   ItemNo             ItemName ItemCategory ItemSubCategory  Price    Cost  \\\n",
       "0    4301  Lrg Ice Cream 21 oz     Desserts       Ice Cream   3.89  1.2793   \n",
       "1    4301  Lrg Ice Cream 21 oz     Desserts       Ice Cream   3.89  1.2793   \n",
       "2   11391    Btl Domestic Beer      Alcohol     Beer Bottle   4.99  2.3839   \n",
       "3   11391    Btl Domestic Beer      Alcohol     Beer Bottle   4.99  2.3839   \n",
       "4    4791  Med Ice Cream 16 oz     Desserts       Ice Cream   3.39  0.9335   \n",
       "\n",
       "   Discount  QtySold  simple_cal  TotalProfit  Year  Sales  Day  \n",
       "0       0.0        1      2.6107       2.6107  2021   3.89    1  \n",
       "1       0.0        1      2.6107       2.6107  2021   3.89    1  \n",
       "2       0.0        2      2.6061       5.2122  2021   9.98    1  \n",
       "3       0.0        2      2.6061       5.2122  2021   9.98    1  \n",
       "4       0.0        1      2.4565       2.4565  2021   3.39    1  "
      ]
     },
     "execution_count": 23,
     "metadata": {},
     "output_type": "execute_result"
    }
   ],
   "source": [
    "data['BusinessDate'] = pd.to_datetime(data['BusinessDate'])\n",
    "data['Day'] = data['BusinessDate'].dt.day\n",
    "data.head()"
   ]
  },
  {
   "cell_type": "markdown",
   "id": "c66c7ca2",
   "metadata": {},
   "source": [
    "# Find the top 5 items with the largest total sales and extract their index values"
   ]
  },
  {
   "cell_type": "code",
   "execution_count": 24,
   "id": "5709a3b7",
   "metadata": {},
   "outputs": [
    {
     "data": {
      "text/plain": [
       "Index(['Sml Ice Cream 12 oz', 'Med Ice Cream 16 oz', 'Open Food',\n",
       "       'Lrg Ice Cream 21 oz', 'Kids Ice Cream 8 oz'],\n",
       "      dtype='object', name='ItemName')"
      ]
     },
     "execution_count": 24,
     "metadata": {},
     "output_type": "execute_result"
    }
   ],
   "source": [
    "top_5_items = Total_Item_Sales.nlargest(5).index\n",
    "top_5_items"
   ]
  },
  {
   "cell_type": "code",
   "execution_count": 25,
   "id": "94009152",
   "metadata": {},
   "outputs": [],
   "source": [
    "# Filter data for the top 5 items\n",
    "top_5_data = data[data['ItemName'].isin(top_5_items)]"
   ]
  },
  {
   "cell_type": "code",
   "execution_count": 26,
   "id": "82059f7d",
   "metadata": {},
   "outputs": [],
   "source": [
    "# Group data by Store and Day, and calculate total sales\n",
    "sales_by_store_day = top_5_data.groupby(['StoreName', 'Day'])['Sales'].sum()"
   ]
  },
  {
   "cell_type": "code",
   "execution_count": 27,
   "id": "303e1433",
   "metadata": {},
   "outputs": [
    {
     "data": {
      "image/png": "[encoded data removed]",
      "text/plain": [
       "<Figure size 1000x600 with 1 Axes>"
      ]
     },
     "metadata": {},
     "output_type": "display_data"
    }
   ],
   "source": [
    "# Create a box plot for each item\n",
    "plt.figure(figsize=(10, 6))\n",
    "for item in top_5_items:\n",
    "    item_data = top_5_data[top_5_data['ItemName'] == item]\n",
    "    plt.boxplot(item_data['Sales'], positions=[top_5_items.get_loc(item)], labels=[item])\n",
    "\n",
    "plt.xlabel('Item Name')\n",
    "plt.ylabel('Total Sales')\n",
    "plt.title('Sales Distribution by Item (Top 5)')\n",
    "plt.xticks(range(len(top_5_items)), top_5_items, rotation=45)\n",
    "plt.grid(axis='y')\n",
    "plt.tight_layout()\n",
    "plt.savefig(\"Sales_Distribution_by_Item.png\")\n",
    "plt.show()"
   ]
  },
  {
   "cell_type": "markdown",
   "id": "130d727d",
   "metadata": {},
   "source": [
    "# Group the data by item and store, and sum the sales\n",
    "grouped_data = data.groupby([\"ItemNo\", \"StoreNo\", \"Day\"]).agg({\"Sales\": \"sum\"}).reset_index()\n",
    "\n",
    "# Get the top 5 items by total sales\n",
    "top_items = grouped_data.groupby(\"ItemNo\").agg({\"Sales\": \"sum\"}).sort_values(\"Sales\", ascending=False).head(5).index\n",
    "\n",
    "# Filter the data to only include the top 5 items\n",
    "filtered_data = grouped_data[grouped_data[\"ItemNo\"].isin(top_items)]"
   ]
  },
  {
   "cell_type": "markdown",
   "id": "6475d9ec",
   "metadata": {},
   "source": [
    "fig, ax = plt.subplots(figsize=(10, 5))\n",
    "filtered_data.boxplot(column=\"Sales\", by=[\"ItemNo\", \"StoreNo\", \"Day\"], ax=ax)\n",
    "\n",
    "# Add labels and a title\n",
    "plt.xlabel(\"ItemName, StoreName, Day\")\n",
    "plt.ylabel(\"Sales\")\n",
    "plt.title(\"Box Plot of Sales by Item, Store, and Day\")\n",
    "plt.tight_layout()\n",
    "plt.savefig(\"Box_Plot.png\")\n",
    "\n",
    "# Show the plot\n",
    "plt.show()"
   ]
  },
  {
   "cell_type": "markdown",
   "id": "0464366b",
   "metadata": {},
   "source": [
    "# Group the data by store name and calculate the total number of check numbers (sales) for each store\n",
    "# Find the store with the highest total sales by locating its index\n",
    "# Retrieve the maximum total sales value"
   ]
  },
  {
   "cell_type": "code",
   "execution_count": 28,
   "id": "3eb3f26a",
   "metadata": {
    "scrolled": true
   },
   "outputs": [
    {
     "name": "stdout",
     "output_type": "stream",
     "text": [
      "The store with the highest total sales is Store Kentwood MI with 392609257 sales.\n"
     ]
    }
   ],
   "source": [
    "store_sales = data.groupby('StoreName')['CheckNo'].sum()\n",
    "max_sales_store = store_sales.idxmax()\n",
    "max_sales_value = store_sales.max()\n",
    "print(f\"The store with the highest total sales is Store {max_sales_store} with {max_sales_value} sales.\")"
   ]
  },
  {
   "cell_type": "markdown",
   "id": "404521eb",
   "metadata": {},
   "source": [
    "# Assign the store with the highest total sales to the variable 'popular_store'\n",
    "# Filter the data to include only the rows corresponding to the popular store\n",
    "# Specify the selected columns to extract from the filtered data\n",
    "# Extract the selected columns from the filtered data"
   ]
  },
  {
   "cell_type": "code",
   "execution_count": 29,
   "id": "4aeb13a6",
   "metadata": {},
   "outputs": [],
   "source": [
    "popular_store = max_sales_store\n",
    "popular_store_data = data[data['StoreName'] == popular_store]\n",
    "selected_columns = [\"StoreName\", \"Day\", \"Hr\", \"CheckNo\"]\n",
    "extracted_data = popular_store_data[selected_columns]"
   ]
  },
  {
   "cell_type": "code",
   "execution_count": 30,
   "id": "da62131a",
   "metadata": {},
   "outputs": [
    {
     "name": "stdout",
     "output_type": "stream",
     "text": [
      "           StoreName  Day                 Hr  CheckNo\n",
      "6806100  Kentwood MI    1  10:00AM - 10:59AM        1\n",
      "6806101  Kentwood MI    1  10:00AM - 10:59AM        1\n",
      "6806102  Kentwood MI    1  10:00AM - 10:59AM        2\n",
      "6806103  Kentwood MI    1  10:00AM - 10:59AM        2\n",
      "6806104  Kentwood MI    1  10:00AM - 10:59AM        3\n"
     ]
    }
   ],
   "source": [
    "print(extracted_data.head())"
   ]
  },
  {
   "cell_type": "markdown",
   "id": "441c8462",
   "metadata": {},
   "source": [
    "# Group the data by day and hour, then calculate the mean number of transactions for each hour of each day"
   ]
  },
  {
   "cell_type": "code",
   "execution_count": 31,
   "id": "8f534f2d",
   "metadata": {},
   "outputs": [],
   "source": [
    "hourly_transactions = popular_store_data.groupby(['Day', 'Hr'])['CheckNo'].mean()"
   ]
  },
  {
   "cell_type": "markdown",
   "id": "16334941",
   "metadata": {},
   "source": [
    "# Reset the index of the DataFrame to ensure 'Hr' and 'CheckNo' are columns again"
   ]
  },
  {
   "cell_type": "code",
   "execution_count": 32,
   "id": "9ca7137e",
   "metadata": {},
   "outputs": [],
   "source": [
    "hourly_transactions = hourly_transactions.reset_index()"
   ]
  },
  {
   "cell_type": "markdown",
   "id": "784589f4",
   "metadata": {},
   "source": [
    "# Create a bar plot to visualize the average transactions per hour for the popular store"
   ]
  },
  {
   "cell_type": "code",
   "execution_count": 33,
   "id": "88b1a56d",
   "metadata": {},
   "outputs": [
    {
     "data": {
      "image/png": "[encoded data removed]",
      "text/plain": [
       "<Figure size 1500x800 with 1 Axes>"
      ]
     },
     "metadata": {},
     "output_type": "display_data"
    }
   ],
   "source": [
    "plt.figure(figsize=(15, 8))\n",
    "plt.bar(hourly_transactions['Hr'], hourly_transactions['CheckNo'], color='skyblue')\n",
    "plt.xlabel('Hour of Business')\n",
    "plt.ylabel('Average Transactions')\n",
    "plt.title(f'Average Transactions per Hour for Store {popular_store}')\n",
    "plt.xticks(range(12))  # Assuming 12 hours in a day\n",
    "plt.grid(axis='y')\n",
    "plt.savefig(\"Business Hour.png\")\n",
    "plt.tight_layout()\n",
    "plt.show()"
   ]
  },
  {
   "cell_type": "markdown",
   "id": "6fd33b30",
   "metadata": {},
   "source": [
    "# Calculate the number of unique business dates for each store and sort them in descending order"
   ]
  },
  {
   "cell_type": "code",
   "execution_count": 34,
   "id": "f1c8ace2",
   "metadata": {},
   "outputs": [
    {
     "name": "stdout",
     "output_type": "stream",
     "text": [
      "Stores with the most missing days:\n",
      "StoreName\n",
      "Sandusky, MI    727\n",
      "Allendale MI    726\n",
      "Kentwood MI     726\n",
      "Cadillac MI     726\n",
      "Lansing MI      726\n",
      "Name: BusinessDate, dtype: int64\n"
     ]
    }
   ],
   "source": [
    "missing_days_by_store = data.groupby('StoreName')['BusinessDate'].nunique()\n",
    "stores_with_most_missing_days = missing_days_by_store.sort_values(ascending=False)\n",
    "print(\"Stores with the most missing days:\")\n",
    "print(stores_with_most_missing_days.head())"
   ]
  },
  {
   "cell_type": "markdown",
   "id": "1c07e6aa",
   "metadata": {},
   "source": [
    "# Create a bar plot to visualize the number of missing days by store"
   ]
  },
  {
   "cell_type": "code",
   "execution_count": 35,
   "id": "0763679b",
   "metadata": {},
   "outputs": [
    {
     "data": {
      "image/png": "[encoded data removed]",
      "text/plain": [
       "<Figure size 1000x600 with 1 Axes>"
      ]
     },
     "metadata": {},
     "output_type": "display_data"
    }
   ],
   "source": [
    "plt.figure(figsize=(10, 6))\n",
    "plt.bar(stores_with_most_missing_days.index, stores_with_most_missing_days.values, color='skyblue')\n",
    "plt.xlabel('Store')\n",
    "plt.ylabel('Number of Missing Days')\n",
    "plt.title('Missing Days by Store')\n",
    "plt.xticks(rotation=45, ha='right')\n",
    "plt.grid(axis='y')\n",
    "plt.savefig(\"Missing days by store\")\n",
    "plt.show()"
   ]
  },
  {
   "cell_type": "markdown",
   "id": "4b5417e9",
   "metadata": {},
   "source": [
    "# Filter the data to include only the recent years' data, where the year is greater than or equal to the second most recent year"
   ]
  },
  {
   "cell_type": "code",
   "execution_count": 36,
   "id": "4c2135e2",
   "metadata": {},
   "outputs": [],
   "source": [
    "recent_years_data = data[data['Year'] >= (data['Year'].max() - 1)]"
   ]
  },
  {
   "cell_type": "markdown",
   "id": "b065a667",
   "metadata": {},
   "source": [
    "# Group the recent years' data by year and aggregate the total sales, total profit, and total transactions for each year"
   ]
  },
  {
   "cell_type": "code",
   "execution_count": 37,
   "id": "97eb7d23",
   "metadata": {},
   "outputs": [],
   "source": [
    "yearly_summary = recent_years_data.groupby('Year').agg({\n",
    "    'Sales': 'sum',\n",
    "    'TotalProfit': 'sum',\n",
    "    'CheckNo': 'sum'\n",
    "}).reset_index()"
   ]
  },
  {
   "cell_type": "markdown",
   "id": "cf3523b3",
   "metadata": {},
   "source": [
    "# Plot the total sales, total profit, and total transactions over years"
   ]
  },
  {
   "cell_type": "code",
   "execution_count": 38,
   "id": "8821af7b",
   "metadata": {},
   "outputs": [
    {
     "data": {
      "image/png": "[encoded data removed]",
      "text/plain": [
       "<Figure size 1000x600 with 1 Axes>"
      ]
     },
     "metadata": {},
     "output_type": "display_data"
    }
   ],
   "source": [
    "plt.figure(figsize=(10, 6))\n",
    "plt.plot(yearly_summary['Year'], yearly_summary['Sales'], label='Total Sales', marker='o')\n",
    "plt.plot(yearly_summary['Year'], yearly_summary['TotalProfit'], label='Total Profit', marker='s')\n",
    "plt.plot(yearly_summary['Year'], yearly_summary['CheckNo'], label='Total Transactions', marker='^')\n",
    "plt.xlabel('Year')\n",
    "plt.ylabel('Amount')\n",
    "plt.title('Year-over-Year Metrics')\n",
    "plt.legend()\n",
    "plt.grid()\n",
    "plt.show()"
   ]
  }
 ],
 "metadata": {
  "kernelspec": {
   "display_name": "Python 3 (ipykernel)",
   "language": "python",
   "name": "python3"
  },
  "language_info": {
   "codemirror_mode": {
    "name": "ipython",
    "version": 3
   },
   "file_extension": ".py",
   "mimetype": "text/x-python",
   "name": "python",
   "nbconvert_exporter": "python",
   "pygments_lexer": "ipython3",
   "version": "3.11.5"
  }
 },
 "nbformat": 4,
 "nbformat_minor": 5
}
